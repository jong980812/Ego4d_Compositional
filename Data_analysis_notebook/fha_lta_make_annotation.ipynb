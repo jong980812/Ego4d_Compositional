{
 "cells": [
  {
   "cell_type": "code",
   "execution_count": 1,
   "metadata": {},
   "outputs": [],
   "source": [
    "import json\n",
    "import matplotlib.pyplot as plt"
   ]
  },
  {
   "cell_type": "code",
   "execution_count": 2,
   "metadata": {},
   "outputs": [],
   "source": [
    "\n",
    "lta_train_json = \"./\"\n",
    "lta_val_json = \"./\"\n",
    "with open(lta_train_json, encoding='utf-8') as f:\n",
    "    lta_train = json.load(f)\n",
    "with open(lta_val_json, encoding='utf-8') as f:\n",
    "    lta_val = json.load(f)"
   ]
  },
  {
   "cell_type": "code",
   "execution_count": 3,
   "metadata": {},
   "outputs": [],
   "source": [
    "for clip in lta_train[\"clips\"]:\n",
    "    action_id=str(clip[\"clip_id\"])+'_'+str(clip[\"action_idx\"])\n",
    "    clip[\"action_unique_id\"]=action_id\n",
    "for clip in lta_val[\"clips\"]:\n",
    "    action_id=str(clip[\"clip_id\"])+'_'+str(clip[\"action_idx\"])\n",
    "    clip[\"action_unique_id\"]=action_id\n"
   ]
  },
  {
   "cell_type": "code",
   "execution_count": 4,
   "metadata": {},
   "outputs": [],
   "source": [
    "import csv\n",
    "\n",
    "with open('./annotations/my_annotations/train_lta_timestamp.csv', 'w', newline='') as csvfile:\n",
    "    writer = csv.writer(csvfile, delimiter=',')\n",
    "    writer.writerow(['action_unique_id', 'clip_id', 'video_id', 'start_timestamp', 'stop_timestamp', 'start_frame', 'stop_frame', 'verb', 'verb_class', 'noun', 'noun_class'])\n",
    "\n",
    "    for clip in lta_train[\"clips\"]:\n",
    "        writer.writerow([clip['action_unique_id'], clip['clip_uid'], clip['video_uid'], clip['action_clip_start_sec'], clip['action_clip_end_sec'], clip['action_clip_start_frame'], clip['action_clip_end_frame'], clip['verb'], clip['verb_label'], clip['noun'], clip['noun_label']])\n",
    "\n",
    "with open('./annotations/my_annotations/val_lta_timestamp.csv', 'w', newline='') as csvfile:\n",
    "    writer = csv.writer(csvfile, delimiter=',')\n",
    "    writer.writerow(['action_unique_id', 'clip_id', 'video_id', 'start_timestamp', 'stop_timestamp', 'start_frame', 'stop_frame', 'verb', 'verb_class', 'noun', 'noun_class'])\n",
    "\n",
    "    for clip in lta_val[\"clips\"]:\n",
    "        writer.writerow([clip['action_unique_id'], clip['clip_uid'], clip['video_uid'], clip['action_clip_start_sec'], clip['action_clip_end_sec'], clip['action_clip_start_frame'], clip['action_clip_end_frame'], clip['verb'], clip['verb_label'], clip['noun'], clip['noun_label']])\n",
    "                                                                         "
   ]
  },
  {
   "cell_type": "code",
   "execution_count": null,
   "metadata": {},
   "outputs": [],
   "source": []
  }
 ],
 "metadata": {
  "kernelspec": {
   "display_name": "Python 3",
   "language": "python",
   "name": "python3"
  },
  "language_info": {
   "codemirror_mode": {
    "name": "ipython",
    "version": 3
   },
   "file_extension": ".py",
   "mimetype": "text/x-python",
   "name": "python",
   "nbconvert_exporter": "python",
   "pygments_lexer": "ipython3",
   "version": "3.8.10 (default, Jun 22 2022, 20:18:18) \n[GCC 9.4.0]"
  },
  "orig_nbformat": 4,
  "vscode": {
   "interpreter": {
    "hash": "31f2aee4e71d21fbe5cf8b01ff0e069b9275f58929596ceb00d14d90e3e16cd6"
   }
  }
 },
 "nbformat": 4,
 "nbformat_minor": 2
}
